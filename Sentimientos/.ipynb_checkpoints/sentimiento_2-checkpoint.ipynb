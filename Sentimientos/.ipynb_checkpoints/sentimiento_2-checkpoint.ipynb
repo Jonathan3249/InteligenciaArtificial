{
 "cells": [
  {
   "cell_type": "code",
   "execution_count": 1,
   "id": "fe36685c-1028-467f-b4a6-eeef39e85913",
   "metadata": {},
   "outputs": [
    {
     "name": "stderr",
     "output_type": "stream",
     "text": [
      "2022-10-13 15:21:15.703887: I tensorflow/core/platform/cpu_feature_guard.cc:193] This TensorFlow binary is optimized with oneAPI Deep Neural Network Library (oneDNN) to use the following CPU instructions in performance-critical operations:  SSE4.1 SSE4.2 AVX AVX2 FMA\n",
      "To enable them in other operations, rebuild TensorFlow with the appropriate compiler flags.\n"
     ]
    }
   ],
   "source": [
    "import pandas as pd\n",
    "\n",
    "class_list = ['INSULT','ABUSE','PROFANITY','OTHER']\n",
    "\n",
    "df1 = pd.read_csv('germeval2019GoldLabelsSubtask1_2.txt',sep='\\t', lineterminator='\\n',encoding='utf8',names=[\"tweet\", \"task1\", \"task2\"])\n",
    "df2 = pd.read_csv('germeval2019.training_subtask1_2_korrigiert.txt',sep='\\t', lineterminator='\\n',encoding='utf8',names=[\"tweet\", \"task1\", \"task2\"])\n",
    "\n",
    "df = pd.concat([df1,df2])\n",
    "df['task2'] = df['task2'].str.replace('\\r', \"\")\n",
    "df['pred_class'] = df.apply(lambda x:  class_list.index(x['task2']),axis=1)\n",
    "\n",
    "df = df[['tweet','pred_class']]\n",
    "\n",
    "print(df.shape)\n",
    "df.head()"
   ]
  }
 ],
 "metadata": {
  "kernelspec": {
   "display_name": "Python 3 (ipykernel)",
   "language": "python",
   "name": "python3"
  },
  "language_info": {
   "codemirror_mode": {
    "name": "ipython",
    "version": 3
   },
   "file_extension": ".py",
   "mimetype": "text/x-python",
   "name": "python",
   "nbconvert_exporter": "python",
   "pygments_lexer": "ipython3",
   "version": "3.10.6"
  }
 },
 "nbformat": 4,
 "nbformat_minor": 5
}
